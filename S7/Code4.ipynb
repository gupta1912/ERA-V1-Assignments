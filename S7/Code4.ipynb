{
  "cells": [
    {
      "attachments": {},
      "cell_type": "markdown",
      "metadata": {},
      "source": [
        "**Target:**\n",
        "\n",
        "- Added one more layer in end to increase model receptive field. This should increase model scores.\n",
        "\n",
        "**Results:**\n",
        "\n",
        "- Parameters: 7.7k\n",
        "- Best Training Accuracy: 98.76\n",
        "- Best Test Accuracy: 98.69\n",
        "\n",
        "**Analysis:**\n",
        "\n",
        "- Model performance increased but by a very marginal amount.\n",
        "- Even if the model is pushed further, it won't be able to get to desired target of 99.4.\n",
        "- Will add batch norm to increase model efficiency."
      ]
    },
    {
      "cell_type": "code",
      "execution_count": 1,
      "metadata": {
        "id": "xi8dScPsxAcJ"
      },
      "outputs": [],
      "source": [
        "import torch\n",
        "import torch.nn.functional as F\n",
        "import torch.optim as optim\n",
        "from torchvision import transforms, datasets\n",
        "from torchsummary import summary\n",
        "import matplotlib.pyplot as plt\n",
        "from models import Net4\n",
        "from utils import train, test"
      ]
    },
    {
      "cell_type": "code",
      "execution_count": 2,
      "metadata": {
        "colab": {
          "base_uri": "https://localhost:8080/"
        },
        "id": "jOben9YQxx62",
        "outputId": "6ee6f6dc-5385-427e-843b-0d948ef05f90"
      },
      "outputs": [
        {
          "name": "stdout",
          "output_type": "stream",
          "text": [
            "----------------------------------------------------------------\n",
            "        Layer (type)               Output Shape         Param #\n",
            "================================================================\n",
            "            Conv2d-1            [-1, 8, 26, 26]              72\n",
            "              ReLU-2            [-1, 8, 26, 26]               0\n",
            "            Conv2d-3           [-1, 16, 24, 24]           1,152\n",
            "              ReLU-4           [-1, 16, 24, 24]               0\n",
            "            Conv2d-5            [-1, 8, 24, 24]             128\n",
            "         MaxPool2d-6            [-1, 8, 12, 12]               0\n",
            "            Conv2d-7           [-1, 12, 10, 10]             864\n",
            "              ReLU-8           [-1, 12, 10, 10]               0\n",
            "            Conv2d-9             [-1, 12, 8, 8]           1,296\n",
            "             ReLU-10             [-1, 12, 8, 8]               0\n",
            "           Conv2d-11             [-1, 16, 6, 6]           1,728\n",
            "             ReLU-12             [-1, 16, 6, 6]               0\n",
            "           Conv2d-13             [-1, 16, 4, 4]           2,304\n",
            "             ReLU-14             [-1, 16, 4, 4]               0\n",
            "AdaptiveAvgPool2d-15             [-1, 16, 1, 1]               0\n",
            "           Conv2d-16             [-1, 10, 1, 1]             160\n",
            "================================================================\n",
            "Total params: 7,704\n",
            "Trainable params: 7,704\n",
            "Non-trainable params: 0\n",
            "----------------------------------------------------------------\n",
            "Input size (MB): 0.00\n",
            "Forward/backward pass size (MB): 0.31\n",
            "Params size (MB): 0.03\n",
            "Estimated Total Size (MB): 0.34\n",
            "----------------------------------------------------------------\n"
          ]
        }
      ],
      "source": [
        "use_cuda = torch.cuda.is_available()\n",
        "device = torch.device(\"cuda\" if use_cuda else \"cpu\")\n",
        "model = Net4().to(device)\n",
        "summary(model, input_size=(1, 28, 28))"
      ]
    },
    {
      "cell_type": "code",
      "execution_count": 3,
      "metadata": {
        "id": "Iqec78JBxHZm"
      },
      "outputs": [],
      "source": [
        "torch.manual_seed(1)\n",
        "batch_size = 128\n",
        "\n",
        "kwargs = {'num_workers': 1, 'pin_memory': True} if use_cuda else {}\n",
        "train_loader = torch.utils.data.DataLoader(\n",
        "    datasets.MNIST('../data', train=True, download=True,\n",
        "                    transform=transforms.Compose([\n",
        "                                transforms.ToTensor(),\n",
        "                                transforms.Normalize((0.1307,), (0.3081,)),\n",
        "                                ])),\n",
        "    batch_size=batch_size, shuffle=True, **kwargs)\n",
        "test_loader = torch.utils.data.DataLoader(\n",
        "    datasets.MNIST('../data', train=False, transform=transforms.Compose([\n",
        "                        transforms.ToTensor(),\n",
        "                        transforms.Normalize((0.1307,), (0.3081,))\n",
        "                    ])),\n",
        "    batch_size=batch_size, shuffle=True, **kwargs)\n"
      ]
    },
    {
      "cell_type": "code",
      "execution_count": 4,
      "metadata": {
        "id": "Nl3qQxy8xeCb"
      },
      "outputs": [],
      "source": [
        "# Data to plot accuracy and loss graphs\n",
        "train_losses = []\n",
        "test_losses = []\n",
        "train_acc = []\n",
        "test_acc = []\n",
        "\n",
        "test_incorrect_pred = {'images': [], 'ground_truths': [], 'predicted_vals': []}"
      ]
    },
    {
      "cell_type": "code",
      "execution_count": 5,
      "metadata": {
        "colab": {
          "base_uri": "https://localhost:8080/"
        },
        "id": "WD9PKEpWxsuZ",
        "outputId": "104fa808-897c-4ab1-984a-a492e2157276"
      },
      "outputs": [
        {
          "name": "stdout",
          "output_type": "stream",
          "text": [
            "Epoch 1\n"
          ]
        },
        {
          "name": "stderr",
          "output_type": "stream",
          "text": [
            "Train: Loss=2.3010 Batch_id=468 Accuracy=9.94: 100%|██████████| 469/469 [00:19<00:00, 23.81it/s]\n"
          ]
        },
        {
          "name": "stdout",
          "output_type": "stream",
          "text": [
            "Test set: Average loss: 2.2997, Accuracy: 1009/10000 (10.09%)\n",
            "\n",
            "Epoch 2\n"
          ]
        },
        {
          "name": "stderr",
          "output_type": "stream",
          "text": [
            "Train: Loss=0.1692 Batch_id=468 Accuracy=59.62: 100%|██████████| 469/469 [00:20<00:00, 23.07it/s]\n"
          ]
        },
        {
          "name": "stdout",
          "output_type": "stream",
          "text": [
            "Test set: Average loss: 0.2418, Accuracy: 9248/10000 (92.48%)\n",
            "\n",
            "Epoch 3\n"
          ]
        },
        {
          "name": "stderr",
          "output_type": "stream",
          "text": [
            "Train: Loss=0.0854 Batch_id=468 Accuracy=94.26: 100%|██████████| 469/469 [00:19<00:00, 24.56it/s]\n"
          ]
        },
        {
          "name": "stdout",
          "output_type": "stream",
          "text": [
            "Test set: Average loss: 0.1447, Accuracy: 9541/10000 (95.41%)\n",
            "\n",
            "Epoch 4\n"
          ]
        },
        {
          "name": "stderr",
          "output_type": "stream",
          "text": [
            "Train: Loss=0.1446 Batch_id=468 Accuracy=96.17: 100%|██████████| 469/469 [00:18<00:00, 24.85it/s]\n"
          ]
        },
        {
          "name": "stdout",
          "output_type": "stream",
          "text": [
            "Test set: Average loss: 0.0982, Accuracy: 9697/10000 (96.97%)\n",
            "\n",
            "Epoch 5\n"
          ]
        },
        {
          "name": "stderr",
          "output_type": "stream",
          "text": [
            "Train: Loss=0.0625 Batch_id=468 Accuracy=97.02: 100%|██████████| 469/469 [00:19<00:00, 24.59it/s]\n"
          ]
        },
        {
          "name": "stdout",
          "output_type": "stream",
          "text": [
            "Test set: Average loss: 0.0770, Accuracy: 9758/10000 (97.58%)\n",
            "\n",
            "Epoch 6\n"
          ]
        },
        {
          "name": "stderr",
          "output_type": "stream",
          "text": [
            "Train: Loss=0.0576 Batch_id=468 Accuracy=97.51: 100%|██████████| 469/469 [00:19<00:00, 24.16it/s]\n"
          ]
        },
        {
          "name": "stdout",
          "output_type": "stream",
          "text": [
            "Test set: Average loss: 0.0743, Accuracy: 9780/10000 (97.80%)\n",
            "\n",
            "Epoch 7\n"
          ]
        },
        {
          "name": "stderr",
          "output_type": "stream",
          "text": [
            "Train: Loss=0.0321 Batch_id=468 Accuracy=97.90: 100%|██████████| 469/469 [00:18<00:00, 25.13it/s]\n"
          ]
        },
        {
          "name": "stdout",
          "output_type": "stream",
          "text": [
            "Test set: Average loss: 0.0611, Accuracy: 9808/10000 (98.08%)\n",
            "\n",
            "Epoch 8\n"
          ]
        },
        {
          "name": "stderr",
          "output_type": "stream",
          "text": [
            "Train: Loss=0.0691 Batch_id=468 Accuracy=98.08: 100%|██████████| 469/469 [00:18<00:00, 25.26it/s]\n"
          ]
        },
        {
          "name": "stdout",
          "output_type": "stream",
          "text": [
            "Test set: Average loss: 0.0530, Accuracy: 9831/10000 (98.31%)\n",
            "\n",
            "Epoch 9\n"
          ]
        },
        {
          "name": "stderr",
          "output_type": "stream",
          "text": [
            "Train: Loss=0.0506 Batch_id=468 Accuracy=98.28: 100%|██████████| 469/469 [00:19<00:00, 23.98it/s]\n"
          ]
        },
        {
          "name": "stdout",
          "output_type": "stream",
          "text": [
            "Test set: Average loss: 0.0847, Accuracy: 9723/10000 (97.23%)\n",
            "\n",
            "Epoch 10\n"
          ]
        },
        {
          "name": "stderr",
          "output_type": "stream",
          "text": [
            "Train: Loss=0.0246 Batch_id=468 Accuracy=98.38: 100%|██████████| 469/469 [00:19<00:00, 24.37it/s]\n"
          ]
        },
        {
          "name": "stdout",
          "output_type": "stream",
          "text": [
            "Test set: Average loss: 0.0647, Accuracy: 9792/10000 (97.92%)\n",
            "\n",
            "Epoch 11\n"
          ]
        },
        {
          "name": "stderr",
          "output_type": "stream",
          "text": [
            "Train: Loss=0.0376 Batch_id=468 Accuracy=98.44: 100%|██████████| 469/469 [00:18<00:00, 25.37it/s]\n"
          ]
        },
        {
          "name": "stdout",
          "output_type": "stream",
          "text": [
            "Test set: Average loss: 0.0448, Accuracy: 9856/10000 (98.56%)\n",
            "\n",
            "Epoch 12\n"
          ]
        },
        {
          "name": "stderr",
          "output_type": "stream",
          "text": [
            "Train: Loss=0.0092 Batch_id=468 Accuracy=98.58: 100%|██████████| 469/469 [00:18<00:00, 24.89it/s]\n"
          ]
        },
        {
          "name": "stdout",
          "output_type": "stream",
          "text": [
            "Test set: Average loss: 0.0539, Accuracy: 9835/10000 (98.35%)\n",
            "\n",
            "Epoch 13\n"
          ]
        },
        {
          "name": "stderr",
          "output_type": "stream",
          "text": [
            "Train: Loss=0.0203 Batch_id=468 Accuracy=98.61: 100%|██████████| 469/469 [00:19<00:00, 24.34it/s]\n"
          ]
        },
        {
          "name": "stdout",
          "output_type": "stream",
          "text": [
            "Test set: Average loss: 0.0424, Accuracy: 9869/10000 (98.69%)\n",
            "\n",
            "Epoch 14\n"
          ]
        },
        {
          "name": "stderr",
          "output_type": "stream",
          "text": [
            "Train: Loss=0.2318 Batch_id=468 Accuracy=98.69: 100%|██████████| 469/469 [00:18<00:00, 24.97it/s]\n"
          ]
        },
        {
          "name": "stdout",
          "output_type": "stream",
          "text": [
            "Test set: Average loss: 0.0433, Accuracy: 9854/10000 (98.54%)\n",
            "\n",
            "Epoch 15\n"
          ]
        },
        {
          "name": "stderr",
          "output_type": "stream",
          "text": [
            "Train: Loss=0.1257 Batch_id=468 Accuracy=98.76: 100%|██████████| 469/469 [00:18<00:00, 25.28it/s]\n"
          ]
        },
        {
          "name": "stdout",
          "output_type": "stream",
          "text": [
            "Test set: Average loss: 0.0440, Accuracy: 9861/10000 (98.61%)\n",
            "\n"
          ]
        }
      ],
      "source": [
        "model = Net4().to(device)\n",
        "optimizer = optim.SGD(model.parameters(), lr=0.01, momentum=0.9)\n",
        "criterion = F.nll_loss\n",
        "num_epochs = 15\n",
        "\n",
        "for epoch in range(1, num_epochs+1):\n",
        "    print(f'Epoch {epoch}')\n",
        "    train_losses, train_acc = train(model, device, train_loader, optimizer, criterion, train_losses, train_acc)\n",
        "    test_losses, test_acc = test(model, device, test_loader, criterion, test_losses, test_acc)"
      ]
    },
    {
      "cell_type": "code",
      "execution_count": 6,
      "metadata": {
        "colab": {
          "base_uri": "https://localhost:8080/",
          "height": 870
        },
        "id": "PrUXGNEIyIL9",
        "outputId": "1081fc48-bf58-4bf1-a372-056c76197bfb"
      },
      "outputs": [
        {
          "data": {
            "text/plain": [
              "Text(0.5, 1.0, 'Test Accuracy')"
            ]
          },
          "execution_count": 6,
          "metadata": {},
          "output_type": "execute_result"
        },
        {
          "data": {
            "image/png": "[encoded data removed]",
            "text/plain": [
              "<Figure size 1500x1000 with 4 Axes>"
            ]
          },
          "metadata": {},
          "output_type": "display_data"
        }
      ],
      "source": [
        "fig, axs = plt.subplots(2,2,figsize=(15,10))\n",
        "axs[0, 0].plot(train_losses)\n",
        "axs[0, 0].set_title(\"Training Loss\")\n",
        "axs[1, 0].plot(train_acc)\n",
        "axs[1, 0].set_title(\"Training Accuracy\")\n",
        "axs[0, 1].plot(test_losses)\n",
        "axs[0, 1].set_title(\"Test Loss\")\n",
        "axs[1, 1].plot(test_acc)\n",
        "axs[1, 1].set_title(\"Test Accuracy\")"
      ]
    },
    {
      "cell_type": "code",
      "execution_count": 7,
      "metadata": {
        "colab": {
          "base_uri": "https://localhost:8080/"
        },
        "id": "kg1MyPZlydAh",
        "outputId": "e2ed8261-e7bc-420c-ea73-905089fcfbb5"
      },
      "outputs": [
        {
          "name": "stdout",
          "output_type": "stream",
          "text": [
            "best train accuracy :  98.76\n",
            "best test accuracy :  98.69\n"
          ]
        }
      ],
      "source": [
        "print(\"best train accuracy : \", max(train_acc))\n",
        "print(\"best test accuracy : \", max(test_acc))"
      ]
    },
    {
      "cell_type": "code",
      "execution_count": 8,
      "metadata": {
        "colab": {
          "base_uri": "https://localhost:8080/"
        },
        "id": "qu4mgn-fzxCo",
        "outputId": "849a084e-f1fe-411f-e2b6-04da8bd3ccc9"
      },
      "outputs": [
        {
          "name": "stdout",
          "output_type": "stream",
          "text": [
            "best train loss :  0.041140966603893846\n",
            "best test loss :  0.04237993929386139\n"
          ]
        }
      ],
      "source": [
        "print(\"best train loss : \", min(train_losses))\n",
        "print(\"best test loss : \", min(test_losses))"
      ]
    },
    {
      "cell_type": "code",
      "execution_count": null,
      "metadata": {
        "id": "7xhLiz9nbp1o"
      },
      "outputs": [],
      "source": []
    }
  ],
  "metadata": {
    "accelerator": "GPU",
    "colab": {
      "gpuType": "T4",
      "provenance": []
    },
    "kernelspec": {
      "display_name": "Python 3",
      "name": "python3"
    },
    "language_info": {
      "name": "python"
    }
  },
  "nbformat": 4,
  "nbformat_minor": 0
}
