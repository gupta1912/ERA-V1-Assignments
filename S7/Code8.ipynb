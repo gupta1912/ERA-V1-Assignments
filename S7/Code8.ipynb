{
  "cells": [
    {
      "attachments": {},
      "cell_type": "markdown",
      "metadata": {},
      "source": [
        "**Target:**\n",
        "\n",
        "- Adding step lr to stabilize training and get better optimization. Reducing LR in intervals of 5 epochs by one-tenth.\n",
        "- Adding one more layer at the end after gap, helped including more non-linearity and still less than 8k parameters.\n",
        "\n",
        "**Results:**\n",
        "\n",
        "- Parameters: 7.98k\n",
        "- Best Training Accuracy: 99.01\n",
        "- Best Test Accuracy: 99.41\n",
        "\n",
        "**Analysis:**\n",
        "\n",
        "- Step LR did wonders. Reached our goal in epoch 12 and epoch 15."
      ]
    },
    {
      "cell_type": "code",
      "execution_count": 1,
      "metadata": {
        "id": "xi8dScPsxAcJ"
      },
      "outputs": [],
      "source": [
        "import torch\n",
        "import torch.nn.functional as F\n",
        "import torch.optim as optim\n",
        "from torchvision import transforms, datasets\n",
        "from torchsummary import summary\n",
        "import matplotlib.pyplot as plt\n",
        "from models import Net7\n",
        "from utils import train, test"
      ]
    },
    {
      "cell_type": "code",
      "execution_count": 2,
      "metadata": {
        "colab": {
          "base_uri": "https://localhost:8080/"
        },
        "id": "jOben9YQxx62",
        "outputId": "ddf21239-c04e-4016-f233-fc59248ec7fc"
      },
      "outputs": [
        {
          "name": "stdout",
          "output_type": "stream",
          "text": [
            "----------------------------------------------------------------\n",
            "        Layer (type)               Output Shape         Param #\n",
            "================================================================\n",
            "            Conv2d-1            [-1, 8, 26, 26]              72\n",
            "              ReLU-2            [-1, 8, 26, 26]               0\n",
            "       BatchNorm2d-3            [-1, 8, 26, 26]              16\n",
            "           Dropout-4            [-1, 8, 26, 26]               0\n",
            "            Conv2d-5           [-1, 16, 24, 24]           1,152\n",
            "              ReLU-6           [-1, 16, 24, 24]               0\n",
            "       BatchNorm2d-7           [-1, 16, 24, 24]              32\n",
            "           Dropout-8           [-1, 16, 24, 24]               0\n",
            "            Conv2d-9            [-1, 8, 24, 24]             128\n",
            "        MaxPool2d-10            [-1, 8, 12, 12]               0\n",
            "           Conv2d-11           [-1, 12, 10, 10]             864\n",
            "             ReLU-12           [-1, 12, 10, 10]               0\n",
            "      BatchNorm2d-13           [-1, 12, 10, 10]              24\n",
            "          Dropout-14           [-1, 12, 10, 10]               0\n",
            "           Conv2d-15             [-1, 12, 8, 8]           1,296\n",
            "             ReLU-16             [-1, 12, 8, 8]               0\n",
            "      BatchNorm2d-17             [-1, 12, 8, 8]              24\n",
            "          Dropout-18             [-1, 12, 8, 8]               0\n",
            "           Conv2d-19             [-1, 16, 6, 6]           1,728\n",
            "             ReLU-20             [-1, 16, 6, 6]               0\n",
            "      BatchNorm2d-21             [-1, 16, 6, 6]              32\n",
            "          Dropout-22             [-1, 16, 6, 6]               0\n",
            "           Conv2d-23             [-1, 16, 4, 4]           2,304\n",
            "             ReLU-24             [-1, 16, 4, 4]               0\n",
            "      BatchNorm2d-25             [-1, 16, 4, 4]              32\n",
            "          Dropout-26             [-1, 16, 4, 4]               0\n",
            "AdaptiveAvgPool2d-27             [-1, 16, 1, 1]               0\n",
            "           Conv2d-28             [-1, 10, 1, 1]             160\n",
            "             ReLU-29             [-1, 10, 1, 1]               0\n",
            "      BatchNorm2d-30             [-1, 10, 1, 1]              20\n",
            "           Conv2d-31             [-1, 10, 1, 1]             100\n",
            "================================================================\n",
            "Total params: 7,984\n",
            "Trainable params: 7,984\n",
            "Non-trainable params: 0\n",
            "----------------------------------------------------------------\n",
            "Input size (MB): 0.00\n",
            "Forward/backward pass size (MB): 0.58\n",
            "Params size (MB): 0.03\n",
            "Estimated Total Size (MB): 0.61\n",
            "----------------------------------------------------------------\n"
          ]
        }
      ],
      "source": [
        "use_cuda = torch.cuda.is_available()\n",
        "device = torch.device(\"cuda\" if use_cuda else \"cpu\")\n",
        "model = Net7().to(device)\n",
        "summary(model, input_size=(1, 28, 28))"
      ]
    },
    {
      "cell_type": "code",
      "execution_count": 3,
      "metadata": {
        "id": "Iqec78JBxHZm"
      },
      "outputs": [],
      "source": [
        "torch.manual_seed(1)\n",
        "batch_size = 128\n",
        "\n",
        "kwargs = {'num_workers': 1, 'pin_memory': True} if use_cuda else {}\n",
        "train_loader = torch.utils.data.DataLoader(\n",
        "    datasets.MNIST('../data', train=True, download=True,\n",
        "                    transform=transforms.Compose([\n",
        "                                transforms.RandomApply([transforms.CenterCrop(22), ], p=0.1),\n",
        "                                transforms.Resize((28, 28)),\n",
        "                                transforms.RandomRotation((-7.0, 7.0), fill=(1,)),\n",
        "                                transforms.ToTensor(),\n",
        "                                transforms.Normalize((0.1307,), (0.3081,)),\n",
        "                                ])),\n",
        "    batch_size=batch_size, shuffle=True, **kwargs)\n",
        "test_loader = torch.utils.data.DataLoader(\n",
        "    datasets.MNIST('../data', train=False, transform=transforms.Compose([\n",
        "                        transforms.ToTensor(),\n",
        "                        transforms.Normalize((0.1307,), (0.3081,))\n",
        "                    ])),\n",
        "    batch_size=batch_size, shuffle=True, **kwargs)\n"
      ]
    },
    {
      "cell_type": "code",
      "execution_count": 4,
      "metadata": {
        "id": "Nl3qQxy8xeCb"
      },
      "outputs": [],
      "source": [
        "# Data to plot accuracy and loss graphs\n",
        "train_losses = []\n",
        "test_losses = []\n",
        "train_acc = []\n",
        "test_acc = []\n",
        "\n",
        "test_incorrect_pred = {'images': [], 'ground_truths': [], 'predicted_vals': []}"
      ]
    },
    {
      "cell_type": "code",
      "execution_count": 5,
      "metadata": {
        "colab": {
          "base_uri": "https://localhost:8080/"
        },
        "id": "WD9PKEpWxsuZ",
        "outputId": "56f7fa76-ac3e-4a5c-d09f-fc527966c606"
      },
      "outputs": [
        {
          "name": "stdout",
          "output_type": "stream",
          "text": [
            "Adjusting learning rate of group 0 to 1.0000e-02.\n",
            "Epoch 1\n"
          ]
        },
        {
          "name": "stderr",
          "output_type": "stream",
          "text": [
            "Train: Loss=0.0975 Batch_id=468 Accuracy=89.89: 100%|██████████| 469/469 [00:34<00:00, 13.66it/s]\n"
          ]
        },
        {
          "name": "stdout",
          "output_type": "stream",
          "text": [
            "Test set: Average loss: 0.0632, Accuracy: 9809/10000 (98.09%)\n",
            "\n",
            "Adjusting learning rate of group 0 to 1.0000e-02.\n",
            "Epoch 2\n"
          ]
        },
        {
          "name": "stderr",
          "output_type": "stream",
          "text": [
            "Train: Loss=0.1820 Batch_id=468 Accuracy=97.33: 100%|██████████| 469/469 [00:29<00:00, 15.71it/s]\n"
          ]
        },
        {
          "name": "stdout",
          "output_type": "stream",
          "text": [
            "Test set: Average loss: 0.0442, Accuracy: 9869/10000 (98.69%)\n",
            "\n",
            "Adjusting learning rate of group 0 to 1.0000e-02.\n",
            "Epoch 3\n"
          ]
        },
        {
          "name": "stderr",
          "output_type": "stream",
          "text": [
            "Train: Loss=0.1162 Batch_id=468 Accuracy=97.97: 100%|██████████| 469/469 [00:29<00:00, 15.97it/s]\n"
          ]
        },
        {
          "name": "stdout",
          "output_type": "stream",
          "text": [
            "Test set: Average loss: 0.0353, Accuracy: 9889/10000 (98.89%)\n",
            "\n",
            "Adjusting learning rate of group 0 to 1.0000e-02.\n",
            "Epoch 4\n"
          ]
        },
        {
          "name": "stderr",
          "output_type": "stream",
          "text": [
            "Train: Loss=0.1420 Batch_id=468 Accuracy=98.28: 100%|██████████| 469/469 [00:30<00:00, 15.62it/s]\n"
          ]
        },
        {
          "name": "stdout",
          "output_type": "stream",
          "text": [
            "Test set: Average loss: 0.0340, Accuracy: 9891/10000 (98.91%)\n",
            "\n",
            "Adjusting learning rate of group 0 to 1.0000e-02.\n",
            "Epoch 5\n"
          ]
        },
        {
          "name": "stderr",
          "output_type": "stream",
          "text": [
            "Train: Loss=0.0966 Batch_id=468 Accuracy=98.42: 100%|██████████| 469/469 [00:29<00:00, 15.94it/s]\n"
          ]
        },
        {
          "name": "stdout",
          "output_type": "stream",
          "text": [
            "Test set: Average loss: 0.0302, Accuracy: 9911/10000 (99.11%)\n",
            "\n",
            "Adjusting learning rate of group 0 to 1.0000e-03.\n",
            "Epoch 6\n"
          ]
        },
        {
          "name": "stderr",
          "output_type": "stream",
          "text": [
            "Train: Loss=0.0173 Batch_id=468 Accuracy=98.67: 100%|██████████| 469/469 [00:32<00:00, 14.32it/s]\n"
          ]
        },
        {
          "name": "stdout",
          "output_type": "stream",
          "text": [
            "Test set: Average loss: 0.0214, Accuracy: 9935/10000 (99.35%)\n",
            "\n",
            "Adjusting learning rate of group 0 to 1.0000e-03.\n",
            "Epoch 7\n"
          ]
        },
        {
          "name": "stderr",
          "output_type": "stream",
          "text": [
            "Train: Loss=0.0201 Batch_id=468 Accuracy=98.92: 100%|██████████| 469/469 [00:30<00:00, 15.21it/s]\n"
          ]
        },
        {
          "name": "stdout",
          "output_type": "stream",
          "text": [
            "Test set: Average loss: 0.0220, Accuracy: 9930/10000 (99.30%)\n",
            "\n",
            "Adjusting learning rate of group 0 to 1.0000e-03.\n",
            "Epoch 8\n"
          ]
        },
        {
          "name": "stderr",
          "output_type": "stream",
          "text": [
            "Train: Loss=0.0749 Batch_id=468 Accuracy=98.89: 100%|██████████| 469/469 [00:29<00:00, 15.70it/s]\n"
          ]
        },
        {
          "name": "stdout",
          "output_type": "stream",
          "text": [
            "Test set: Average loss: 0.0209, Accuracy: 9939/10000 (99.39%)\n",
            "\n",
            "Adjusting learning rate of group 0 to 1.0000e-03.\n",
            "Epoch 9\n"
          ]
        },
        {
          "name": "stderr",
          "output_type": "stream",
          "text": [
            "Train: Loss=0.0718 Batch_id=468 Accuracy=98.93: 100%|██████████| 469/469 [00:29<00:00, 16.02it/s]\n"
          ]
        },
        {
          "name": "stdout",
          "output_type": "stream",
          "text": [
            "Test set: Average loss: 0.0201, Accuracy: 9937/10000 (99.37%)\n",
            "\n",
            "Adjusting learning rate of group 0 to 1.0000e-03.\n",
            "Epoch 10\n"
          ]
        },
        {
          "name": "stderr",
          "output_type": "stream",
          "text": [
            "Train: Loss=0.0117 Batch_id=468 Accuracy=99.01: 100%|██████████| 469/469 [00:29<00:00, 15.69it/s]\n"
          ]
        },
        {
          "name": "stdout",
          "output_type": "stream",
          "text": [
            "Test set: Average loss: 0.0199, Accuracy: 9939/10000 (99.39%)\n",
            "\n",
            "Adjusting learning rate of group 0 to 1.0000e-04.\n",
            "Epoch 11\n"
          ]
        },
        {
          "name": "stderr",
          "output_type": "stream",
          "text": [
            "Train: Loss=0.1132 Batch_id=468 Accuracy=98.90: 100%|██████████| 469/469 [00:29<00:00, 15.96it/s]\n"
          ]
        },
        {
          "name": "stdout",
          "output_type": "stream",
          "text": [
            "Test set: Average loss: 0.0193, Accuracy: 9937/10000 (99.37%)\n",
            "\n",
            "Adjusting learning rate of group 0 to 1.0000e-04.\n",
            "Epoch 12\n"
          ]
        },
        {
          "name": "stderr",
          "output_type": "stream",
          "text": [
            "Train: Loss=0.0213 Batch_id=468 Accuracy=98.96: 100%|██████████| 469/469 [00:29<00:00, 15.82it/s]\n"
          ]
        },
        {
          "name": "stdout",
          "output_type": "stream",
          "text": [
            "Test set: Average loss: 0.0199, Accuracy: 9941/10000 (99.41%)\n",
            "\n",
            "Adjusting learning rate of group 0 to 1.0000e-04.\n",
            "Epoch 13\n"
          ]
        },
        {
          "name": "stderr",
          "output_type": "stream",
          "text": [
            "Train: Loss=0.0114 Batch_id=468 Accuracy=98.95: 100%|██████████| 469/469 [00:29<00:00, 16.08it/s]\n"
          ]
        },
        {
          "name": "stdout",
          "output_type": "stream",
          "text": [
            "Test set: Average loss: 0.0199, Accuracy: 9938/10000 (99.38%)\n",
            "\n",
            "Adjusting learning rate of group 0 to 1.0000e-04.\n",
            "Epoch 14\n"
          ]
        },
        {
          "name": "stderr",
          "output_type": "stream",
          "text": [
            "Train: Loss=0.0445 Batch_id=468 Accuracy=98.96: 100%|██████████| 469/469 [00:29<00:00, 16.05it/s]\n"
          ]
        },
        {
          "name": "stdout",
          "output_type": "stream",
          "text": [
            "Test set: Average loss: 0.0198, Accuracy: 9939/10000 (99.39%)\n",
            "\n",
            "Adjusting learning rate of group 0 to 1.0000e-04.\n",
            "Epoch 15\n"
          ]
        },
        {
          "name": "stderr",
          "output_type": "stream",
          "text": [
            "Train: Loss=0.0465 Batch_id=468 Accuracy=98.99: 100%|██████████| 469/469 [00:29<00:00, 15.87it/s]\n"
          ]
        },
        {
          "name": "stdout",
          "output_type": "stream",
          "text": [
            "Test set: Average loss: 0.0199, Accuracy: 9940/10000 (99.40%)\n",
            "\n",
            "Adjusting learning rate of group 0 to 1.0000e-05.\n"
          ]
        }
      ],
      "source": [
        "model = Net7().to(device)\n",
        "optimizer = optim.SGD(model.parameters(), lr=0.01, momentum=0.9)\n",
        "scheduler = optim.lr_scheduler.StepLR(optimizer, step_size=5, gamma=0.1, verbose=True)\n",
        "criterion = F.nll_loss\n",
        "num_epochs = 15\n",
        "\n",
        "for epoch in range(1, num_epochs+1):\n",
        "    print(f'Epoch {epoch}')\n",
        "    train_losses, train_acc = train(model, device, train_loader, optimizer, criterion, train_losses, train_acc)\n",
        "    test_losses, test_acc = test(model, device, test_loader, criterion, test_losses, test_acc)\n",
        "    scheduler.step()"
      ]
    },
    {
      "cell_type": "code",
      "execution_count": 6,
      "metadata": {
        "colab": {
          "base_uri": "https://localhost:8080/",
          "height": 870
        },
        "id": "PrUXGNEIyIL9",
        "outputId": "1e9f71b0-bf0e-48fa-a5b2-b988a374a63f"
      },
      "outputs": [
        {
          "data": {
            "text/plain": [
              "Text(0.5, 1.0, 'Test Accuracy')"
            ]
          },
          "execution_count": 6,
          "metadata": {},
          "output_type": "execute_result"
        },
        {
          "data": {
            "image/png": "[encoded data removed]",
            "text/plain": [
              "<Figure size 1500x1000 with 4 Axes>"
            ]
          },
          "metadata": {},
          "output_type": "display_data"
        }
      ],
      "source": [
        "fig, axs = plt.subplots(2,2,figsize=(15,10))\n",
        "axs[0, 0].plot(train_losses)\n",
        "axs[0, 0].set_title(\"Training Loss\")\n",
        "axs[1, 0].plot(train_acc)\n",
        "axs[1, 0].set_title(\"Training Accuracy\")\n",
        "axs[0, 1].plot(test_losses)\n",
        "axs[0, 1].set_title(\"Test Loss\")\n",
        "axs[1, 1].plot(test_acc)\n",
        "axs[1, 1].set_title(\"Test Accuracy\")"
      ]
    },
    {
      "cell_type": "code",
      "execution_count": 7,
      "metadata": {
        "colab": {
          "base_uri": "https://localhost:8080/"
        },
        "id": "kg1MyPZlydAh",
        "outputId": "a48d6667-6722-4d5d-8c64-3a600784bf87"
      },
      "outputs": [
        {
          "name": "stdout",
          "output_type": "stream",
          "text": [
            "best train accuracy :  99.00833333333334\n",
            "best test accuracy :  99.41\n"
          ]
        }
      ],
      "source": [
        "print(\"best train accuracy : \", max(train_acc))\n",
        "print(\"best test accuracy : \", max(test_acc))"
      ]
    },
    {
      "cell_type": "code",
      "execution_count": 8,
      "metadata": {
        "colab": {
          "base_uri": "https://localhost:8080/"
        },
        "id": "qu4mgn-fzxCo",
        "outputId": "0e34af0d-dcde-45c5-b884-cf9022f549b1"
      },
      "outputs": [
        {
          "name": "stdout",
          "output_type": "stream",
          "text": [
            "best train loss :  0.033834599842652996\n",
            "best test loss :  0.019298966513201593\n"
          ]
        }
      ],
      "source": [
        "print(\"best train loss : \", min(train_losses))\n",
        "print(\"best test loss : \", min(test_losses))"
      ]
    },
    {
      "cell_type": "code",
      "execution_count": null,
      "metadata": {
        "id": "-2bsAyfyjbqo"
      },
      "outputs": [],
      "source": []
    }
  ],
  "metadata": {
    "accelerator": "GPU",
    "colab": {
      "gpuType": "T4",
      "provenance": []
    },
    "kernelspec": {
      "display_name": "Python 3",
      "name": "python3"
    },
    "language_info": {
      "name": "python"
    }
  },
  "nbformat": 4,
  "nbformat_minor": 0
}
